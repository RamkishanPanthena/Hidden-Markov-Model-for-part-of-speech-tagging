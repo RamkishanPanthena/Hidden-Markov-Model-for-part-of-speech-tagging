{
 "cells": [
  {
   "cell_type": "markdown",
   "metadata": {},
   "source": [
    "# Part-of-speech tagger using Hidden Markov Model"
   ]
  },
  {
   "cell_type": "markdown",
   "metadata": {},
   "source": [
    "Implemented part-of-speech tagger using bigram hidden markov model decoding - given an observation sequence of n words and a set of hidden states (POS tags) tn1, choose the most probable sequence of tags.\n",
    "\n",
    "Derived the most probable tag sequence using Viterbi algorithm."
   ]
  },
  {
   "cell_type": "markdown",
   "metadata": {},
   "source": [
    "## Dataset"
   ]
  },
  {
   "cell_type": "markdown",
   "metadata": {},
   "source": [
    "The dataset in English from Universal Dependencies (http://universaldependencies.org/#en) will be used for training and testing the model. Some of the pre-processed files used are described below:\n",
    "\n",
    " - __train.counts__: Frequency counts from the training file. It has two types of counts:\n",
    "     - Emission counts, in the format __< count > WORDTAG < tag > < word >__\n",
    "     - n-gram counts (where N is 1, 2 or 3), in the format __< count > < N-gram > < tag 1 > ... < tag N >__\n",
    "     \n",
    " - __test.words__: Simplified version of the original test file, with one word per line and black lines separating sentence\n",
    " \n",
    " - __test.tags__: Simplified version of the original test file, with word and the true tag on each line and blank lines separating sentences __< word > < tag >__"
   ]
  },
  {
   "cell_type": "markdown",
   "metadata": {},
   "source": [
    "### Supported python versions "
   ]
  },
  {
   "cell_type": "markdown",
   "metadata": {},
   "source": [
    "-  Python 3"
   ]
  },
  {
   "cell_type": "markdown",
   "metadata": {},
   "source": [
    "## Documentation"
   ]
  },
  {
   "cell_type": "markdown",
   "metadata": {},
   "source": [
    "Run the below command to store output tags derived using Viterbi algorithm for each word in test in a separate file in same format as test.tags(<word> <tags>). This will generate a predictions file."
   ]
  },
  {
   "cell_type": "markdown",
   "metadata": {},
   "source": [
    " - python ViterbiAlgorithm.py < train.counts > < test.words > < predictions filename >"
   ]
  },
  {
   "cell_type": "markdown",
   "metadata": {},
   "source": [
    "Use the eval_tagger.py to compute accuracy of the predictions against actual tags."
   ]
  },
  {
   "cell_type": "markdown",
   "metadata": {},
   "source": [
    " - python eval_tagger.py < predictions filename > < test.tags >"
   ]
  }
 ],
 "metadata": {
  "anaconda-cloud": {},
  "kernelspec": {
   "display_name": "Python [conda root]",
   "language": "python",
   "name": "conda-root-py"
  },
  "language_info": {
   "codemirror_mode": {
    "name": "ipython",
    "version": 3
   },
   "file_extension": ".py",
   "mimetype": "text/x-python",
   "name": "python",
   "nbconvert_exporter": "python",
   "pygments_lexer": "ipython3",
   "version": "3.5.2"
  }
 },
 "nbformat": 4,
 "nbformat_minor": 1
}
